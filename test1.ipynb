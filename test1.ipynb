{
  "nbformat": 4,
  "nbformat_minor": 0,
  "metadata": {
    "colab": {
      "name": "Untitled1.ipynb",
      "provenance": [],
      "collapsed_sections": [],
      "include_colab_link": true
    },
    "kernelspec": {
      "name": "python3",
      "display_name": "Python 3"
    }
  },
  "cells": [
    {
      "cell_type": "markdown",
      "metadata": {
        "id": "view-in-github",
        "colab_type": "text"
      },
      "source": [
        "<a href=\"https://colab.research.google.com/github/ShuheiKuriki/Trial_Poincare_embeddings/blob/master/test1.ipynb\" target=\"_parent\"><img src=\"https://colab.research.google.com/assets/colab-badge.svg\" alt=\"Open In Colab\"/></a>"
      ]
    },
    {
      "cell_type": "code",
      "metadata": {
        "id": "CAWPrvKBPyaQ",
        "colab_type": "code",
        "colab": {}
      },
      "source": [
        "train_data = [\n",
        "    ('Software Engineer', 'Engineer'),\n",
        "    ('Senior Software Engineer', 'Software Engineer'),\n",
        "    ('Web Programmer', 'Programmer'),\n",
        "    ('UI Designer', 'Designer'),\n",
        "    ('エンジニア', 'Engineer'),\n",
        "    ('Engineer', 'エンジニア'),\n",
        "]"
      ],
      "execution_count": 0,
      "outputs": []
    },
    {
      "cell_type": "code",
      "metadata": {
        "id": "4haldO2MQOgh",
        "colab_type": "code",
        "colab": {}
      },
      "source": [
        ""
      ],
      "execution_count": 0,
      "outputs": []
    }
  ]
}